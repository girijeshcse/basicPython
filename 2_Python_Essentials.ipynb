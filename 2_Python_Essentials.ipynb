{
 "cells": [
  {
   "cell_type": "markdown",
   "metadata": {},
   "source": [
    "# Notes by Girijesh\n"
   ]
  },
  {
   "cell_type": "markdown",
   "metadata": {},
   "source": [
    "# Python Essentials (Part:2)\n",
    "\n",
    "Hi guys,<br>\n",
    "\n",
    "Welcome to Python Essentials Part 2 lecture.  <br>\n",
    "\n",
    "In the part 1, we have explored Python's data types. <br>\n",
    "Now, in this lecture, we will discuss:\n",
    "\n",
    "* **`Comparisons Operators`**\n",
    "* **`if, else, elif`** statements.\n",
    "\n",
    "Let's move on and learn by doing!\n",
    "\n",
    "## Comparison Operators:\n",
    "Comparison Operators allows to compare two elements to each other, such as, **`greater than, less than, equal to, not equal to`** etc  "
   ]
  },
  {
   "cell_type": "code",
   "execution_count": 1,
   "metadata": {},
   "outputs": [
    {
     "data": {
      "text/plain": [
       "False"
      ]
     },
     "execution_count": 1,
     "metadata": {},
     "output_type": "execute_result"
    }
   ],
   "source": [
    "3 > 4"
   ]
  },
  {
   "cell_type": "code",
   "execution_count": 2,
   "metadata": {},
   "outputs": [
    {
     "data": {
      "text/plain": [
       "True"
      ]
     },
     "execution_count": 2,
     "metadata": {},
     "output_type": "execute_result"
    }
   ],
   "source": [
    "3 < 4"
   ]
  },
  {
   "cell_type": "code",
   "execution_count": 3,
   "metadata": {},
   "outputs": [
    {
     "data": {
      "text/plain": [
       "True"
      ]
     },
     "execution_count": 3,
     "metadata": {},
     "output_type": "execute_result"
    }
   ],
   "source": [
    "2 >= 2"
   ]
  },
  {
   "cell_type": "code",
   "execution_count": 4,
   "metadata": {},
   "outputs": [
    {
     "data": {
      "text/plain": [
       "True"
      ]
     },
     "execution_count": 4,
     "metadata": {},
     "output_type": "execute_result"
    }
   ],
   "source": [
    "3 <= 4"
   ]
  },
  {
   "cell_type": "code",
   "execution_count": 5,
   "metadata": {},
   "outputs": [
    {
     "data": {
      "text/plain": [
       "True"
      ]
     },
     "execution_count": 5,
     "metadata": {},
     "output_type": "execute_result"
    }
   ],
   "source": [
    "# this is different that =, which is assignment operator \n",
    "1 == 1 "
   ]
  },
  {
   "cell_type": "code",
   "execution_count": 6,
   "metadata": {},
   "outputs": [
    {
     "data": {
      "text/plain": [
       "False"
      ]
     },
     "execution_count": 6,
     "metadata": {},
     "output_type": "execute_result"
    }
   ],
   "source": [
    "# we can compare strings\n",
    "'Tom' == 'TOM'"
   ]
  },
  {
   "cell_type": "code",
   "execution_count": 7,
   "metadata": {},
   "outputs": [
    {
     "data": {
      "text/plain": [
       "False"
      ]
     },
     "execution_count": 7,
     "metadata": {},
     "output_type": "execute_result"
    }
   ],
   "source": [
    "'Tom' == 'Jim'"
   ]
  },
  {
   "cell_type": "code",
   "execution_count": 8,
   "metadata": {},
   "outputs": [
    {
     "data": {
      "text/plain": [
       "True"
      ]
     },
     "execution_count": 8,
     "metadata": {},
     "output_type": "execute_result"
    }
   ],
   "source": [
    "'Tom' == 'Tom'"
   ]
  },
  {
   "cell_type": "markdown",
   "metadata": {},
   "source": [
    "## Logic Operators\n",
    "Let's move on and talk about the logic operations. Logic operators combine multiple conditions using key words **`\"and\"`** / **`\"or\"`** operators between conditions.  <br>\n",
    "\n",
    "For **`\"and\"`** operator, **all conditions must be satisfied**"
   ]
  },
  {
   "cell_type": "code",
   "execution_count": 9,
   "metadata": {},
   "outputs": [
    {
     "data": {
      "text/plain": [
       "True"
      ]
     },
     "execution_count": 9,
     "metadata": {},
     "output_type": "execute_result"
    }
   ],
   "source": [
    "# and operator\n",
    "(1 < 2) and (2 < 3)\n",
    "# parentheses are to make the statement more readable only  "
   ]
  },
  {
   "cell_type": "markdown",
   "metadata": {},
   "source": [
    "For **`\"or\"`** operator, **one conditions must be satisfied**"
   ]
  },
  {
   "cell_type": "code",
   "execution_count": 10,
   "metadata": {},
   "outputs": [
    {
     "data": {
      "text/plain": [
       "True"
      ]
     },
     "execution_count": 10,
     "metadata": {},
     "output_type": "execute_result"
    }
   ],
   "source": [
    "# or operator\n",
    "(1 < 2) or (2 > 3)"
   ]
  },
  {
   "cell_type": "code",
   "execution_count": 11,
   "metadata": {},
   "outputs": [
    {
     "data": {
      "text/plain": [
       "False"
      ]
     },
     "execution_count": 11,
     "metadata": {},
     "output_type": "execute_result"
    }
   ],
   "source": [
    "(1 > 2) or (2 > 3)"
   ]
  },
  {
   "cell_type": "code",
   "execution_count": 12,
   "metadata": {},
   "outputs": [
    {
     "data": {
      "text/plain": [
       "True"
      ]
     },
     "execution_count": 12,
     "metadata": {},
     "output_type": "execute_result"
    }
   ],
   "source": [
    "(1 == 2) or (2 == 3) or (4 == 4)"
   ]
  },
  {
   "cell_type": "markdown",
   "metadata": {},
   "source": [
    "So moving forward to \n",
    "## `if, else, elif`  Statements\n",
    "Lots of times, we want to execute the code to perform some action, based on, if the condition is true. We can do this using \"**`if, else, elif`**\" statements. <br>\n",
    "The Python's \"**`if`**\" statement select actions to perform. <br><br>"
   ]
  },
  {
   "cell_type": "code",
   "execution_count": 13,
   "metadata": {},
   "outputs": [
    {
     "name": "stdout",
     "output_type": "stream",
     "text": [
      "True\n"
     ]
    }
   ],
   "source": [
    "# let say, we have a conditon\n",
    "if 3 > 2:\n",
    "    print ('True') \n",
    "# print statement will only execute if the conditon is satisfied"
   ]
  },
  {
   "cell_type": "markdown",
   "metadata": {},
   "source": [
    "<font style=\"font-size:14px;color:green;\">*Notice a block of whitespace before the print( ) statement, in the cell above. It is very important in Python. Python does not use brackets in order to separate a block of code execution statements, it uses white spaces instead. Like most of the other IDEs for Python, Jupyter automatically does the indentation for us after a colon.*<font>"
   ]
  },
  {
   "cell_type": "markdown",
   "metadata": {},
   "source": [
    "If the condition is not satisfied (in the example below), print statement will not execute. Nothing will appear in the output"
   ]
  },
  {
   "cell_type": "code",
   "execution_count": 14,
   "metadata": {
    "collapsed": true
   },
   "outputs": [],
   "source": [
    "if 3 < 2:\n",
    "    print ('True')"
   ]
  },
  {
   "cell_type": "markdown",
   "metadata": {},
   "source": [
    "So, the condition is not satisfied and we did not get 'True' in the output. <br>\n",
    "In such situation, we usually want our program to do something even if the condition is not satisfied, e.g., print \"False\"!. This is where we introduce else. "
   ]
  },
  {
   "cell_type": "code",
   "execution_count": 15,
   "metadata": {},
   "outputs": [
    {
     "name": "stdout",
     "output_type": "stream",
     "text": [
      "False\n"
     ]
    }
   ],
   "source": [
    "if 3 == 2: # Change == to != to print True\n",
    "    print ('True')\n",
    "else:\n",
    "    print ('False')"
   ]
  },
  {
   "cell_type": "markdown",
   "metadata": {},
   "source": [
    "We can have multiple conditions in the code!<br>\n",
    "Let's introduce elif in such situation (elif is a short of else-if) <br>\n",
    "We can introduce many elif statements in the code. <br><br>"
   ]
  },
  {
   "cell_type": "code",
   "execution_count": 16,
   "metadata": {},
   "outputs": [
    {
     "name": "stdout",
     "output_type": "stream",
     "text": [
      "2nd statement\n"
     ]
    }
   ],
   "source": [
    "if 1 == 2:\n",
    "    print('1st statement')\n",
    "elif 2 == 2:\n",
    "    print('2nd statement')\n",
    "else:\n",
    "    print('3rd statement')"
   ]
  },
  {
   "cell_type": "markdown",
   "metadata": {},
   "source": [
    "***Important to remember for elif statement.*** *Notice that, the code will only execute the first true condition, it does not matter if you have other true conditions in the code after the first true.*<br>\n",
    "\n",
    "Let's try another example here!"
   ]
  },
  {
   "cell_type": "code",
   "execution_count": 17,
   "metadata": {},
   "outputs": [
    {
     "name": "stdout",
     "output_type": "stream",
     "text": [
      "2nd statement\n"
     ]
    }
   ],
   "source": [
    "if 1 == 2:\n",
    "    print('1st statement')\n",
    "elif 3 == 3:\n",
    "    print('2nd statement')\n",
    "elif 2 == 2:\n",
    "    print('3nd statement')\n",
    "else:\n",
    "    print('4rd statement')"
   ]
  },
  {
   "cell_type": "markdown",
   "metadata": {},
   "source": [
    "In the code above, although 2==2 is True, the statement will not be printed as the 2nd is already true and is already executed!"
   ]
  },
  {
   "cell_type": "markdown",
   "metadata": {},
   "source": [
    "## Great job guys! \n",
    "I hope that you have enjoyed this lecture. <br>\n",
    "We have gone through comparison and logical operators along with if, else, elif, conditional statements. <br>\n",
    "\n",
    "Lets move on to the next lectures, where we will overview the other important concepts in Python such as loops, list comprehension, functions and more. \n",
    "\n",
    "### Excellent Work!  -- Good Luck, see you in the next lecture :)"
   ]
  }
 ],
 "metadata": {
  "kernelspec": {
   "display_name": "Python 3",
   "language": "python",
   "name": "python3"
  },
  "language_info": {
   "codemirror_mode": {
    "name": "ipython",
    "version": 3
   },
   "file_extension": ".py",
   "mimetype": "text/x-python",
   "name": "python",
   "nbconvert_exporter": "python",
   "pygments_lexer": "ipython3",
   "version": "3.6.12"
  }
 },
 "nbformat": 4,
 "nbformat_minor": 1
}
