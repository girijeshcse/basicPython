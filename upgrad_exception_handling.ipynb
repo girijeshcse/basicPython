{
 "cells": [
  {
   "cell_type": "markdown",
   "metadata": {
    "id": "xh7vgT_4-gdB"
   },
   "source": [
    "There are 2 stages where error may happen in a program\n",
    "\n",
    "- During compilation -> Syntax Error\n",
    "- During execution -> Exceptions"
   ]
  },
  {
   "cell_type": "markdown",
   "metadata": {
    "id": "U9R2vn5c-2RE"
   },
   "source": [
    "### Syntax Error\n",
    "\n",
    "- Something in the program is not written according to the program grammar.\n",
    "- Error is raised by the interpreter/compiler\n",
    "- You can solve it by rectifying the program\n"
   ]
  },
  {
   "cell_type": "code",
   "execution_count": 1,
   "metadata": {
    "colab": {
     "base_uri": "https://localhost:8080/",
     "height": 133
    },
    "id": "sgsgNEc--1ux",
    "outputId": "f973a81c-d579-4259-dcea-19d380fbaaa8"
   },
   "outputs": [
    {
     "ename": "SyntaxError",
     "evalue": "Missing parentheses in call to 'print'. Did you mean print(...)? (528539990.py, line 2)",
     "output_type": "error",
     "traceback": [
      "\u001b[1;36m  Cell \u001b[1;32mIn[1], line 2\u001b[1;36m\u001b[0m\n\u001b[1;33m    print 'hello world'\u001b[0m\n\u001b[1;37m    ^\u001b[0m\n\u001b[1;31mSyntaxError\u001b[0m\u001b[1;31m:\u001b[0m Missing parentheses in call to 'print'. Did you mean print(...)?\n"
     ]
    }
   ],
   "source": [
    "# Examples of syntax error\n",
    "print 'hello world'"
   ]
  },
  {
   "cell_type": "markdown",
   "metadata": {
    "id": "502wvB8BGO0K"
   },
   "source": [
    "### Other examples of syntax error\n",
    "\n",
    "- Leaving symbols like colon,brackets\n",
    "- Misspelling a keyword\n",
    "- Incorrect indentation\n",
    "- empty if/else/loops/class/functions"
   ]
  },
  {
   "cell_type": "code",
   "execution_count": 2,
   "metadata": {
    "colab": {
     "base_uri": "https://localhost:8080/",
     "height": 133
    },
    "id": "gd_SjrGDGTcU",
    "outputId": "5623d424-d264-45ec-cbc9-6ad6834f89ea"
   },
   "outputs": [
    {
     "ename": "SyntaxError",
     "evalue": "expected ':' (3315782095.py, line 2)",
     "output_type": "error",
     "traceback": [
      "\u001b[1;36m  Cell \u001b[1;32mIn[2], line 2\u001b[1;36m\u001b[0m\n\u001b[1;33m    if a==3\u001b[0m\n\u001b[1;37m           ^\u001b[0m\n\u001b[1;31mSyntaxError\u001b[0m\u001b[1;31m:\u001b[0m expected ':'\n"
     ]
    }
   ],
   "source": [
    "a = 5\n",
    "if a==3\n",
    "  print('hello')"
   ]
  },
  {
   "cell_type": "code",
   "execution_count": 3,
   "metadata": {
    "colab": {
     "base_uri": "https://localhost:8080/",
     "height": 133
    },
    "id": "eq0Y-v_MGTmR",
    "outputId": "9ccfb071-fc71-4540-fda7-05542f9b26d3"
   },
   "outputs": [
    {
     "ename": "SyntaxError",
     "evalue": "invalid syntax (521424995.py, line 2)",
     "output_type": "error",
     "traceback": [
      "\u001b[1;36m  Cell \u001b[1;32mIn[3], line 2\u001b[1;36m\u001b[0m\n\u001b[1;33m    iff a==3:\u001b[0m\n\u001b[1;37m        ^\u001b[0m\n\u001b[1;31mSyntaxError\u001b[0m\u001b[1;31m:\u001b[0m invalid syntax\n"
     ]
    }
   ],
   "source": [
    "a = 5\n",
    "iff a==3:\n",
    "  print('hello')"
   ]
  },
  {
   "cell_type": "code",
   "execution_count": 4,
   "metadata": {
    "colab": {
     "base_uri": "https://localhost:8080/",
     "height": 133
    },
    "id": "Llm9KioiGTwe",
    "outputId": "04702c51-21de-4138-9402-4d8ef3a59c8f"
   },
   "outputs": [
    {
     "ename": "IndentationError",
     "evalue": "expected an indented block after 'if' statement on line 2 (3610895221.py, line 3)",
     "output_type": "error",
     "traceback": [
      "\u001b[1;36m  Cell \u001b[1;32mIn[4], line 3\u001b[1;36m\u001b[0m\n\u001b[1;33m    print('hello')\u001b[0m\n\u001b[1;37m    ^\u001b[0m\n\u001b[1;31mIndentationError\u001b[0m\u001b[1;31m:\u001b[0m expected an indented block after 'if' statement on line 2\n"
     ]
    }
   ],
   "source": [
    "a = 5\n",
    "if a==3:\n",
    "print('hello')"
   ]
  },
  {
   "cell_type": "code",
   "execution_count": 5,
   "metadata": {
    "colab": {
     "base_uri": "https://localhost:8080/",
     "height": 205
    },
    "id": "KZQFu9zdEuFC",
    "outputId": "546e9247-b4a2-4c14-b822-4c6c00264f30"
   },
   "outputs": [
    {
     "ename": "IndexError",
     "evalue": "list index out of range",
     "output_type": "error",
     "traceback": [
      "\u001b[1;31m---------------------------------------------------------------------------\u001b[0m",
      "\u001b[1;31mIndexError\u001b[0m                                Traceback (most recent call last)",
      "Cell \u001b[1;32mIn[5], line 4\u001b[0m\n\u001b[0;32m      1\u001b[0m \u001b[38;5;66;03m# IndexError\u001b[39;00m\n\u001b[0;32m      2\u001b[0m \u001b[38;5;66;03m# The IndexError is thrown when trying to access an item at an invalid index.\u001b[39;00m\n\u001b[0;32m      3\u001b[0m L \u001b[38;5;241m=\u001b[39m [\u001b[38;5;241m1\u001b[39m,\u001b[38;5;241m2\u001b[39m,\u001b[38;5;241m3\u001b[39m]\n\u001b[1;32m----> 4\u001b[0m L[\u001b[38;5;241m100\u001b[39m]\n",
      "\u001b[1;31mIndexError\u001b[0m: list index out of range"
     ]
    }
   ],
   "source": [
    "# IndexError\n",
    "# The IndexError is thrown when trying to access an item at an invalid index.\n",
    "L = [1,2,3]\n",
    "L[100]"
   ]
  },
  {
   "cell_type": "code",
   "execution_count": 6,
   "metadata": {
    "colab": {
     "base_uri": "https://localhost:8080/",
     "height": 366
    },
    "id": "FfoXlpAGE1rW",
    "outputId": "b5800421-3a3d-4293-fad6-fb49227da0e6"
   },
   "outputs": [
    {
     "ename": "ModuleNotFoundError",
     "evalue": "No module named 'mathi'",
     "output_type": "error",
     "traceback": [
      "\u001b[1;31m---------------------------------------------------------------------------\u001b[0m",
      "\u001b[1;31mModuleNotFoundError\u001b[0m                       Traceback (most recent call last)",
      "Cell \u001b[1;32mIn[6], line 3\u001b[0m\n\u001b[0;32m      1\u001b[0m \u001b[38;5;66;03m# ModuleNotFoundError\u001b[39;00m\n\u001b[0;32m      2\u001b[0m \u001b[38;5;66;03m# The ModuleNotFoundError is thrown when a module could not be found.\u001b[39;00m\n\u001b[1;32m----> 3\u001b[0m \u001b[38;5;28;01mimport\u001b[39;00m \u001b[38;5;21;01mmathi\u001b[39;00m\n\u001b[0;32m      4\u001b[0m math\u001b[38;5;241m.\u001b[39mfloor(\u001b[38;5;241m5.3\u001b[39m)\n",
      "\u001b[1;31mModuleNotFoundError\u001b[0m: No module named 'mathi'"
     ]
    }
   ],
   "source": [
    "# ModuleNotFoundError\n",
    "# The ModuleNotFoundError is thrown when a module could not be found.\n",
    "import mathi\n",
    "math.floor(5.3)"
   ]
  },
  {
   "cell_type": "code",
   "execution_count": 7,
   "metadata": {
    "colab": {
     "base_uri": "https://localhost:8080/",
     "height": 205
    },
    "id": "IP2CycVwE66e",
    "outputId": "430034d1-08f0-4e37-baeb-486eeb121b43"
   },
   "outputs": [
    {
     "ename": "KeyError",
     "evalue": "'age'",
     "output_type": "error",
     "traceback": [
      "\u001b[1;31m---------------------------------------------------------------------------\u001b[0m",
      "\u001b[1;31mKeyError\u001b[0m                                  Traceback (most recent call last)",
      "Cell \u001b[1;32mIn[7], line 5\u001b[0m\n\u001b[0;32m      1\u001b[0m \u001b[38;5;66;03m# KeyError\u001b[39;00m\n\u001b[0;32m      2\u001b[0m \u001b[38;5;66;03m# The KeyError is thrown when a key is not found\u001b[39;00m\n\u001b[0;32m      4\u001b[0m d \u001b[38;5;241m=\u001b[39m {\u001b[38;5;124m'\u001b[39m\u001b[38;5;124mname\u001b[39m\u001b[38;5;124m'\u001b[39m:\u001b[38;5;124m'\u001b[39m\u001b[38;5;124mgirijesh\u001b[39m\u001b[38;5;124m'\u001b[39m}\n\u001b[1;32m----> 5\u001b[0m d[\u001b[38;5;124m'\u001b[39m\u001b[38;5;124mage\u001b[39m\u001b[38;5;124m'\u001b[39m]\n",
      "\u001b[1;31mKeyError\u001b[0m: 'age'"
     ]
    }
   ],
   "source": [
    "# KeyError\n",
    "# The KeyError is thrown when a key is not found\n",
    "\n",
    "d = {'name':'girijesh'}\n",
    "d['age']"
   ]
  },
  {
   "cell_type": "code",
   "execution_count": 8,
   "metadata": {
    "colab": {
     "base_uri": "https://localhost:8080/",
     "height": 205
    },
    "id": "meGU1o_VE-Y5",
    "outputId": "e8b62d30-5c0e-411e-cd60-4cd7fa42ecfd"
   },
   "outputs": [
    {
     "ename": "TypeError",
     "evalue": "unsupported operand type(s) for +: 'int' and 'str'",
     "output_type": "error",
     "traceback": [
      "\u001b[1;31m---------------------------------------------------------------------------\u001b[0m",
      "\u001b[1;31mTypeError\u001b[0m                                 Traceback (most recent call last)",
      "Cell \u001b[1;32mIn[8], line 3\u001b[0m\n\u001b[0;32m      1\u001b[0m \u001b[38;5;66;03m# TypeError\u001b[39;00m\n\u001b[0;32m      2\u001b[0m \u001b[38;5;66;03m# The TypeError is thrown when an operation or function is applied to an object of an inappropriate type.\u001b[39;00m\n\u001b[1;32m----> 3\u001b[0m \u001b[38;5;241m1\u001b[39m \u001b[38;5;241m+\u001b[39m \u001b[38;5;124m'\u001b[39m\u001b[38;5;124ma\u001b[39m\u001b[38;5;124m'\u001b[39m\n",
      "\u001b[1;31mTypeError\u001b[0m: unsupported operand type(s) for +: 'int' and 'str'"
     ]
    }
   ],
   "source": [
    "# TypeError\n",
    "# The TypeError is thrown when an operation or function is applied to an object of an inappropriate type.\n",
    "1 + 'a'"
   ]
  },
  {
   "cell_type": "code",
   "execution_count": 9,
   "metadata": {
    "colab": {
     "base_uri": "https://localhost:8080/",
     "height": 205
    },
    "id": "ZE_r2WsaFF6f",
    "outputId": "a8f34b54-b1e3-47d9-cd32-7eeee19b4d47"
   },
   "outputs": [
    {
     "ename": "ValueError",
     "evalue": "invalid literal for int() with base 10: 'a'",
     "output_type": "error",
     "traceback": [
      "\u001b[1;31m---------------------------------------------------------------------------\u001b[0m",
      "\u001b[1;31mValueError\u001b[0m                                Traceback (most recent call last)",
      "Cell \u001b[1;32mIn[9], line 3\u001b[0m\n\u001b[0;32m      1\u001b[0m \u001b[38;5;66;03m# ValueError\u001b[39;00m\n\u001b[0;32m      2\u001b[0m \u001b[38;5;66;03m# The ValueError is thrown when a function's argument is of an inappropriate type.\u001b[39;00m\n\u001b[1;32m----> 3\u001b[0m \u001b[38;5;28mint\u001b[39m(\u001b[38;5;124m'\u001b[39m\u001b[38;5;124ma\u001b[39m\u001b[38;5;124m'\u001b[39m)\n",
      "\u001b[1;31mValueError\u001b[0m: invalid literal for int() with base 10: 'a'"
     ]
    }
   ],
   "source": [
    "# ValueError\n",
    "# The ValueError is thrown when a function's argument is of an inappropriate type.\n",
    "int('a')"
   ]
  },
  {
   "cell_type": "code",
   "execution_count": 10,
   "metadata": {
    "colab": {
     "base_uri": "https://localhost:8080/",
     "height": 205
    },
    "id": "yr7eRF2xFPo7",
    "outputId": "617b5a0c-2e8d-4e9d-e441-aa14c013bfa5"
   },
   "outputs": [
    {
     "ename": "NameError",
     "evalue": "name 'k' is not defined",
     "output_type": "error",
     "traceback": [
      "\u001b[1;31m---------------------------------------------------------------------------\u001b[0m",
      "\u001b[1;31mNameError\u001b[0m                                 Traceback (most recent call last)",
      "Cell \u001b[1;32mIn[10], line 3\u001b[0m\n\u001b[0;32m      1\u001b[0m \u001b[38;5;66;03m# NameError\u001b[39;00m\n\u001b[0;32m      2\u001b[0m \u001b[38;5;66;03m# The NameError is thrown when an object could not be found.\u001b[39;00m\n\u001b[1;32m----> 3\u001b[0m \u001b[38;5;28mprint\u001b[39m(k)\n",
      "\u001b[1;31mNameError\u001b[0m: name 'k' is not defined"
     ]
    }
   ],
   "source": [
    "# NameError\n",
    "# The NameError is thrown when an object could not be found.\n",
    "print(k)"
   ]
  },
  {
   "cell_type": "code",
   "execution_count": 11,
   "metadata": {
    "colab": {
     "base_uri": "https://localhost:8080/",
     "height": 205
    },
    "id": "VHVKtWwWFUhK",
    "outputId": "6d84d92c-f2c1-4abc-f4ed-6cf8ebd0cb1e"
   },
   "outputs": [
    {
     "ename": "AttributeError",
     "evalue": "'list' object has no attribute 'upper'",
     "output_type": "error",
     "traceback": [
      "\u001b[1;31m---------------------------------------------------------------------------\u001b[0m",
      "\u001b[1;31mAttributeError\u001b[0m                            Traceback (most recent call last)",
      "Cell \u001b[1;32mIn[11], line 3\u001b[0m\n\u001b[0;32m      1\u001b[0m \u001b[38;5;66;03m# AttributeError\u001b[39;00m\n\u001b[0;32m      2\u001b[0m L \u001b[38;5;241m=\u001b[39m [\u001b[38;5;241m1\u001b[39m,\u001b[38;5;241m2\u001b[39m,\u001b[38;5;241m3\u001b[39m]\n\u001b[1;32m----> 3\u001b[0m L\u001b[38;5;241m.\u001b[39mupper()\n",
      "\u001b[1;31mAttributeError\u001b[0m: 'list' object has no attribute 'upper'"
     ]
    }
   ],
   "source": [
    "# AttributeError\n",
    "L = [1,2,3]\n",
    "L.upper()\n",
    "\n",
    "# Stacktrace"
   ]
  },
  {
   "cell_type": "markdown",
   "metadata": {
    "id": "l6JrgCrHA2Tq"
   },
   "source": [
    "### Exceptions\n",
    "\n",
    "If things go wrong during the execution of the program(runtime). It generally happens when something unforeseen has happened.\n",
    "\n",
    "- Exceptions are raised by python runtime\n",
    "- You have to takle is on the fly\n",
    "\n",
    "#### **Examples**\n",
    "\n",
    "- Memory overflow\n",
    "- Divide by 0 -> logical error\n",
    "- Database error"
   ]
  },
  {
   "cell_type": "code",
   "execution_count": null,
   "metadata": {
    "id": "rfzG2r9DAfDf"
   },
   "outputs": [],
   "source": [
    "# Why is it important to handle exceptions\n",
    "# how to handle exceptions\n",
    "# -> Try except block"
   ]
  },
  {
   "cell_type": "code",
   "execution_count": 12,
   "metadata": {
    "id": "S_VIvkx9Hnxb"
   },
   "outputs": [],
   "source": [
    "# let's create a file\n",
    "with open('sample.txt','w') as f:\n",
    "  f.write('hello world')"
   ]
  },
  {
   "cell_type": "code",
   "execution_count": 13,
   "metadata": {},
   "outputs": [
    {
     "ename": "FileNotFoundError",
     "evalue": "[Errno 2] No such file or directory: 'sample1.txt'",
     "output_type": "error",
     "traceback": [
      "\u001b[1;31m---------------------------------------------------------------------------\u001b[0m",
      "\u001b[1;31mFileNotFoundError\u001b[0m                         Traceback (most recent call last)",
      "Cell \u001b[1;32mIn[13], line 1\u001b[0m\n\u001b[1;32m----> 1\u001b[0m \u001b[38;5;28;01mwith\u001b[39;00m \u001b[38;5;28mopen\u001b[39m(\u001b[38;5;124m'\u001b[39m\u001b[38;5;124msample1.txt\u001b[39m\u001b[38;5;124m'\u001b[39m,\u001b[38;5;124m'\u001b[39m\u001b[38;5;124mr\u001b[39m\u001b[38;5;124m'\u001b[39m) \u001b[38;5;28;01mas\u001b[39;00m f:\n\u001b[0;32m      2\u001b[0m     \u001b[38;5;28mprint\u001b[39m(f\u001b[38;5;241m.\u001b[39mread())\n",
      "File \u001b[1;32m~\\anaconda3\\Lib\\site-packages\\IPython\\core\\interactiveshell.py:284\u001b[0m, in \u001b[0;36m_modified_open\u001b[1;34m(file, *args, **kwargs)\u001b[0m\n\u001b[0;32m    277\u001b[0m \u001b[38;5;28;01mif\u001b[39;00m file \u001b[38;5;129;01min\u001b[39;00m {\u001b[38;5;241m0\u001b[39m, \u001b[38;5;241m1\u001b[39m, \u001b[38;5;241m2\u001b[39m}:\n\u001b[0;32m    278\u001b[0m     \u001b[38;5;28;01mraise\u001b[39;00m \u001b[38;5;167;01mValueError\u001b[39;00m(\n\u001b[0;32m    279\u001b[0m         \u001b[38;5;124mf\u001b[39m\u001b[38;5;124m\"\u001b[39m\u001b[38;5;124mIPython won\u001b[39m\u001b[38;5;124m'\u001b[39m\u001b[38;5;124mt let you open fd=\u001b[39m\u001b[38;5;132;01m{\u001b[39;00mfile\u001b[38;5;132;01m}\u001b[39;00m\u001b[38;5;124m by default \u001b[39m\u001b[38;5;124m\"\u001b[39m\n\u001b[0;32m    280\u001b[0m         \u001b[38;5;124m\"\u001b[39m\u001b[38;5;124mas it is likely to crash IPython. If you know what you are doing, \u001b[39m\u001b[38;5;124m\"\u001b[39m\n\u001b[0;32m    281\u001b[0m         \u001b[38;5;124m\"\u001b[39m\u001b[38;5;124myou can use builtins\u001b[39m\u001b[38;5;124m'\u001b[39m\u001b[38;5;124m open.\u001b[39m\u001b[38;5;124m\"\u001b[39m\n\u001b[0;32m    282\u001b[0m     )\n\u001b[1;32m--> 284\u001b[0m \u001b[38;5;28;01mreturn\u001b[39;00m io_open(file, \u001b[38;5;241m*\u001b[39margs, \u001b[38;5;241m*\u001b[39m\u001b[38;5;241m*\u001b[39mkwargs)\n",
      "\u001b[1;31mFileNotFoundError\u001b[0m: [Errno 2] No such file or directory: 'sample1.txt'"
     ]
    }
   ],
   "source": [
    "with open('sample1.txt','r') as f:\n",
    "    print(f.read())"
   ]
  },
  {
   "cell_type": "code",
   "execution_count": 14,
   "metadata": {
    "colab": {
     "base_uri": "https://localhost:8080/"
    },
    "id": "9WItdkURHtvM",
    "outputId": "b14ed0bd-1d46-426b-ab81-42e24608ec4e"
   },
   "outputs": [
    {
     "name": "stdout",
     "output_type": "stream",
     "text": [
      "sorry file not found\n"
     ]
    }
   ],
   "source": [
    "# try catch demo\n",
    "try:\n",
    "  with open('sample1.txt','r') as f:\n",
    "    print(f.read())\n",
    "except:\n",
    "  print('sorry file not found')"
   ]
  },
  {
   "cell_type": "code",
   "execution_count": 15,
   "metadata": {},
   "outputs": [
    {
     "name": "stdout",
     "output_type": "stream",
     "text": [
      "[Errno 2] No such file or directory: 'sample1.txt'\n"
     ]
    }
   ],
   "source": [
    "try:\n",
    "    with open('sample1.txt','r') as f:\n",
    "        print(f.read())\n",
    "except Exception as e:\n",
    "      print(e)"
   ]
  },
  {
   "cell_type": "code",
   "execution_count": 18,
   "metadata": {
    "colab": {
     "base_uri": "https://localhost:8080/"
    },
    "id": "px7mJhmvH0pd",
    "outputId": "a0052ee7-73f4-44cb-c7f9-2c6756a83fb3"
   },
   "outputs": [
    {
     "name": "stdout",
     "output_type": "stream",
     "text": [
      "list index out of range\n"
     ]
    }
   ],
   "source": [
    "# catching specific exception\n",
    "try:\n",
    "  #m=5\n",
    "#   f = open('sample1.txt','r')\n",
    "#   print(f.read())\n",
    "#   print(m)\n",
    "#   print(5/0)\n",
    "  L = [1,2,3]\n",
    "  L[100]\n",
    "except FileNotFoundError:\n",
    "  print('file not found')\n",
    "except NameError:\n",
    "  print('variable not defined')\n",
    "except ZeroDivisionError:\n",
    "  print(\"can't divide by 0\")\n",
    "except Exception as e:\n",
    "  print(e)"
   ]
  },
  {
   "cell_type": "code",
   "execution_count": 20,
   "metadata": {
    "colab": {
     "base_uri": "https://localhost:8080/"
    },
    "id": "nn-_EK1TKvno",
    "outputId": "311f3b30-b641-43f3-f99f-59f97d5e388c"
   },
   "outputs": [
    {
     "name": "stdout",
     "output_type": "stream",
     "text": [
      "hello world\n"
     ]
    }
   ],
   "source": [
    "# else\n",
    "try:\n",
    "  f = open('sample.txt','r')\n",
    "except FileNotFoundError:\n",
    "  print('file not found')\n",
    "except Exception:\n",
    "  print('something is missing')\n",
    "else:\n",
    "  print(f.read())\n",
    "\n"
   ]
  },
  {
   "cell_type": "code",
   "execution_count": 22,
   "metadata": {
    "colab": {
     "base_uri": "https://localhost:8080/"
    },
    "id": "VKzyyGTUKwm5",
    "outputId": "e986811f-3009-451e-91ac-7b59f1db33e5"
   },
   "outputs": [
    {
     "name": "stdout",
     "output_type": "stream",
     "text": [
      "hello world\n",
      "This will print always\n"
     ]
    }
   ],
   "source": [
    "# finally\n",
    "# else\n",
    "try:\n",
    "  f = open('sample.txt','r')\n",
    "except FileNotFoundError:\n",
    "  print('file not found')\n",
    "except Exception:\n",
    "  print('something is missing')\n",
    "else:\n",
    "  print(f.read())\n",
    "finally:\n",
    "  print('This will print always')"
   ]
  },
  {
   "cell_type": "code",
   "execution_count": null,
   "metadata": {
    "id": "weTHAgttKxaJ"
   },
   "outputs": [],
   "source": [
    "# raise Exception\n",
    "# In Python programming, exceptions are raised when errors occur at runtime.\n",
    "# We can also manually raise exceptions using the raise keyword.\n",
    "\n",
    "# We can optionally pass values to the exception to clarify why that exception was raised"
   ]
  },
  {
   "cell_type": "code",
   "execution_count": 23,
   "metadata": {
    "colab": {
     "base_uri": "https://localhost:8080/",
     "height": 169
    },
    "id": "IH51eIy5K9Yc",
    "outputId": "c7f361a1-35f3-4b11-86fb-b4d1f7e3932c"
   },
   "outputs": [
    {
     "ename": "ZeroDivisionError",
     "evalue": "Just trying",
     "output_type": "error",
     "traceback": [
      "\u001b[1;31m---------------------------------------------------------------------------\u001b[0m",
      "\u001b[1;31mZeroDivisionError\u001b[0m                         Traceback (most recent call last)",
      "Cell \u001b[1;32mIn[23], line 1\u001b[0m\n\u001b[1;32m----> 1\u001b[0m \u001b[38;5;28;01mraise\u001b[39;00m \u001b[38;5;167;01mZeroDivisionError\u001b[39;00m(\u001b[38;5;124m'\u001b[39m\u001b[38;5;124mJust trying\u001b[39m\u001b[38;5;124m'\u001b[39m)\n",
      "\u001b[1;31mZeroDivisionError\u001b[0m: Just trying"
     ]
    }
   ],
   "source": [
    "raise ZeroDivisionError('Just trying')\n",
    "# Java\n",
    "# try -> try\n",
    "# except -> catch\n",
    "# raise -> throw"
   ]
  },
  {
   "cell_type": "code",
   "execution_count": null,
   "metadata": {
    "colab": {
     "base_uri": "https://localhost:8080/"
    },
    "id": "0qLD1KYj_LPm",
    "outputId": "8753ccce-bb47-4e38-ce32-ce00f4c508f8"
   },
   "outputs": [],
   "source": [
    "class Bank:\n",
    "\n",
    "  def __init__(self,balance):\n",
    "    self.balance = balance\n",
    "\n",
    "  def withdraw(self,amount):\n",
    "    if amount < 0:\n",
    "      raise Exception('amount cannot be -ve')\n",
    "    if self.balance < amount:\n",
    "      raise Exception('paise nai hai tere paas')\n",
    "    self.balance = self.balance - amount\n",
    "\n",
    "obj = Bank(10000)\n",
    "try:\n",
    "  obj.withdraw(15000)\n",
    "except Exception as e:\n",
    "  print(e)\n",
    "else:\n",
    "  print(obj.balance)"
   ]
  },
  {
   "cell_type": "code",
   "execution_count": null,
   "metadata": {
    "colab": {
     "base_uri": "https://localhost:8080/"
    },
    "id": "DLzBsX5eBSNs",
    "outputId": "4b8d711a-43a7-45e1-9cd5-1ee6cf0633d9"
   },
   "outputs": [],
   "source": [
    "class MyException(Exception):\n",
    "  def __init__(self,message):\n",
    "    print(message)\n",
    "\n",
    "class Bank:\n",
    "\n",
    "  def __init__(self,balance):\n",
    "    self.balance = balance\n",
    "\n",
    "  def withdraw(self,amount):\n",
    "    if amount < 0:\n",
    "      raise MyException('amount cannot be -ve')\n",
    "    if self.balance < amount:\n",
    "      raise MyException('paise nai hai tere paas')\n",
    "    self.balance = self.balance - amount\n",
    "\n",
    "obj = Bank(10000)\n",
    "try:\n",
    "  obj.withdraw(5000)\n",
    "except MyException as e:\n",
    "  pass\n",
    "else:\n",
    "  print(obj.balance)"
   ]
  },
  {
   "cell_type": "code",
   "execution_count": null,
   "metadata": {
    "id": "VTaMY8stXLaT"
   },
   "outputs": [],
   "source": [
    "\n",
    "\n",
    "# creating custom exceptions\n",
    "# exception hierarchy in python"
   ]
  },
  {
   "cell_type": "code",
   "execution_count": null,
   "metadata": {
    "id": "E9f2B-J_cNJF"
   },
   "outputs": [],
   "source": [
    "# simple example"
   ]
  },
  {
   "cell_type": "code",
   "execution_count": null,
   "metadata": {
    "colab": {
     "base_uri": "https://localhost:8080/"
    },
    "id": "YMIbhy3acWX4",
    "outputId": "1008e800-2a8c-4e47-e041-65a366503cc2"
   },
   "outputs": [],
   "source": [
    "class SecurityError(Exception):\n",
    "\n",
    "  def __init__(self,message):\n",
    "    print(message)\n",
    "\n",
    "  def logout(self):\n",
    "    print('logout')\n",
    "\n",
    "class Google:\n",
    "\n",
    "  def __init__(self,name,email,password,device):\n",
    "    self.name = name\n",
    "    self.email = email\n",
    "    self.password = password\n",
    "    self.device = device\n",
    "\n",
    "  def login(self,email,password,device):\n",
    "    if device != self.device:\n",
    "      raise SecurityError('Danger')\n",
    "    if email == self.email and password == self.password:\n",
    "      print('welcome')\n",
    "    else:\n",
    "      print('login error')\n",
    "\n",
    "\n",
    "\n",
    "obj = Google('nitish','nitish@gmail.com','1234','android')\n",
    "\n",
    "try:\n",
    "  obj.login('nitish@gmail.com','1234','windows')\n",
    "except SecurityError as e:\n",
    "  e.logout()\n",
    "else:\n",
    "  print(obj.name)\n",
    "finally:\n",
    "  print('database connection closed')\n",
    "\n"
   ]
  },
  {
   "cell_type": "code",
   "execution_count": null,
   "metadata": {
    "id": "x3VHwEYHg-z7"
   },
   "outputs": [],
   "source": []
  }
 ],
 "metadata": {
  "colab": {
   "provenance": []
  },
  "kernelspec": {
   "display_name": "Python 3 (ipykernel)",
   "language": "python",
   "name": "python3"
  },
  "language_info": {
   "codemirror_mode": {
    "name": "ipython",
    "version": 3
   },
   "file_extension": ".py",
   "mimetype": "text/x-python",
   "name": "python",
   "nbconvert_exporter": "python",
   "pygments_lexer": "ipython3",
   "version": "3.11.3"
  }
 },
 "nbformat": 4,
 "nbformat_minor": 1
}
