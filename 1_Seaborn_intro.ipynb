{
 "cells": [
  {
   "cell_type": "markdown",
   "metadata": {},
   "source": [
    "<a href='http://www.scienceacademy.ca'> <img style=\"float: left;height:70px\" src=\"Log_SA.jpeg\"></a>"
   ]
  },
  {
   "cell_type": "markdown",
   "metadata": {},
   "source": [
    "# Seaborn: statistical data visualization\n",
    "## [Introduction](http://seaborn.pydata.org/introduction.html#introduction)\n",
    "\n",
    "Hi Guys,<br>\n",
    "Welcome to the Seaborn!!!<br>\n",
    "Seaborn is a Python visualization library based on matplotlib. It provides a high-level interface for drawing attractive statistical graphics. On its official website, it says, **if matplotlib “tries to make easy things easy and hard things possible”, seaborn tries to make a well-defined set of hard things easy too.**\n",
    "\n",
    "A brief introduction to the ideas behind seaborn is provided on its official website in the [introductory notes](http://seaborn.pydata.org/introduction.html#introduction) section. Seaborn's website is a great resource with well documented examples in its [gallery](http://seaborn.pydata.org/examples/index.html#example-gallery) to get a sense for what one can do with seaborn. Kind of plots that seaborn can help to make is explained in its [tutorial](http://seaborn.pydata.org/tutorial.html#tutorial) whereas the [API reference](http://seaborn.pydata.org/api.html) provides authoritative documentation on the options afforded by each function and class.\n",
    "\n",
    "\n",
    "## [Installation](http://seaborn.pydata.org/installing.html#installing) \n",
    "\n",
    "If you have not installed the required package/library so far:<br>\n",
    "For Anaconda users, the best way to get seaborn is via conda:<br>\n",
    "&#9758; **<code>conda install seaborn=0.7.1</code>**<br>\n",
    "For others: <br>\n",
    "&#9758; **<code>pip install seaborn=0.7.1</code>**<br>\n",
    "\n",
    "## What we will learn\n",
    "\n",
    "We will learn range of plots and data visualization options available in [API reference](http://seaborn.pydata.org/api.html) including:\n",
    "* [Distribution Plots](http://seaborn.pydata.org/tutorial/distributions.html#distribution-tutorial)\n",
    "* [Categorical Plots](http://seaborn.pydata.org/tutorial/categorical.html#categorical-tutorial)\n",
    "* [Axis grids](http://seaborn.pydata.org/tutorial/axis_grids.html#grid-tutorial)\n",
    "* [Matrix Plots](http://seaborn.pydata.org/api.html#matrix-plots) \n",
    "* [Regression Plots](http://seaborn.pydata.org/tutorial/regression.html#regression-tutorial) and much more .....\n",
    "\n",
    "We will also cover **[Style](http://seaborn.pydata.org/tutorial/aesthetics.html#aesthetics-tutorial) and [Color](http://seaborn.pydata.org/tutorial/color_palettes.html#palette-tutorial) to control figure aesthetics** in seaborn and much more.....\n",
    "\n",
    "&#9758; Please note, the **order of the lectures may be different** and depends upon \"what is required at which stage\". "
   ]
  },
  {
   "cell_type": "code",
   "execution_count": null,
   "metadata": {},
   "outputs": [],
   "source": []
  }
 ],
 "metadata": {
  "kernelspec": {
   "display_name": "Python 3",
   "language": "python",
   "name": "python3"
  },
  "language_info": {
   "codemirror_mode": {
    "name": "ipython",
    "version": 3
   },
   "file_extension": ".py",
   "mimetype": "text/x-python",
   "name": "python",
   "nbconvert_exporter": "python",
   "pygments_lexer": "ipython3",
   "version": "3.6.8"
  }
 },
 "nbformat": 4,
 "nbformat_minor": 1
}
