{
 "cells": [
  {
   "cell_type": "markdown",
   "metadata": {},
   "source": [
    "# Notes by Girijesh"
   ]
  },
  {
   "cell_type": "markdown",
   "metadata": {},
   "source": [
    "# Python Essentials (Part:3)\n",
    "\n",
    "Hi guys,\n",
    "Welcome to the Python Essentials part 3 lecture. <br>\n",
    "\n",
    "In this lecture, we will go through the following very important concepts:\n",
    "\n",
    "* `Loops (while & for) & range()`\n",
    "* `List Comprehension`\n",
    "* `Functions and Lambda Expressions`\n",
    "* `Map and Filter`"
   ]
  },
  {
   "cell_type": "markdown",
   "metadata": {},
   "source": [
    "Let's start with\n",
    "## while and for loops\n",
    "**while** and **for** are the two main loops in Python.<br>\n",
    "In loops, the statements perform an action over and over, based on the said condition."
   ]
  },
  {
   "cell_type": "markdown",
   "metadata": {},
   "source": [
    "### while loop \n",
    "**continually performed an action, until some condition has been met**<br>\n",
    "Python keeps evaluating the test expression (loop test) before executing the statements, which are nested in the body of the loop, until the test returns a false value:"
   ]
  },
  {
   "cell_type": "code",
   "execution_count": 1,
   "metadata": {},
   "outputs": [
    {
     "name": "stdout",
     "output_type": "stream",
     "text": [
      "The value of i is: 1\n",
      "The value of i is: 2\n",
      "The value of i is: 3\n",
      "The value of i is: 4\n"
     ]
    }
   ],
   "source": [
    "# A simple while loop \n",
    "i = 1\n",
    "while i < 5:\n",
    "    # Run the block of code (given below), till \"i < 5\"\n",
    "    print('The value of i is: {}'.format(i)) \n",
    "    i = i+1 "
   ]
  },
  {
   "cell_type": "markdown",
   "metadata": {},
   "source": [
    "if we dont have `i = i+1` statement, we will get into an infinite while loop, because `i` will alway be less than 5.<br>\n",
    "\n",
    "\n",
    "**Note**:<br>\n",
    "*If you get into the infinite while loop, you will notice a continuous out put or Asterisk on left side of your cell for a very long time* **\"In [*]\"** . <br>\n",
    "*Go to the Kernel and restart to get out of this situation.*<br>"
   ]
  },
  {
   "cell_type": "markdown",
   "metadata": {},
   "source": [
    "#### A nice and cleaner way of exiting the while loop is using else statement (optional):"
   ]
  },
  {
   "cell_type": "code",
   "execution_count": 3,
   "metadata": {},
   "outputs": [
    {
     "name": "stdout",
     "output_type": "stream",
     "text": [
      "The value of i is: 1\n",
      "The value of i is: 3\n",
      "Exit loop\n"
     ]
    }
   ],
   "source": [
    "i = 1\n",
    "while i < 5:\n",
    "    print('The value of i is: {}'.format(i)) \n",
    "    i = i+2\n",
    "else:\n",
    "    print('Exit loop')"
   ]
  },
  {
   "cell_type": "markdown",
   "metadata": {},
   "source": [
    "### for loop \n",
    "for loop allow us to iterate through a sequence. <br>\n",
    "The **`for`** statement works on strings, lists, tuples and other built-in iterables, as well as new user-defined objects. "
   ]
  },
  {
   "cell_type": "markdown",
   "metadata": {},
   "source": [
    "Let's create a list \"my_list\" of numbers and run a `for` loop using that list."
   ]
  },
  {
   "cell_type": "code",
   "execution_count": 4,
   "metadata": {},
   "outputs": [],
   "source": [
    " my_list = [1,2,3,4,5]"
   ]
  },
  {
   "cell_type": "markdown",
   "metadata": {},
   "source": [
    "In a very simple for loop, we can execute some block of code using for loop for every single item in my_list. "
   ]
  },
  {
   "cell_type": "code",
   "execution_count": 5,
   "metadata": {},
   "outputs": [
    {
     "name": "stdout",
     "output_type": "stream",
     "text": [
      "1\n",
      "2\n",
      "3\n",
      "4\n",
      "5\n"
     ]
    }
   ],
   "source": [
    "for item in my_list:\n",
    "    print(item)"
   ]
  },
  {
   "cell_type": "markdown",
   "metadata": {},
   "source": [
    "**Note:**<br>\n",
    "*The temporary variable* **\"item\"** *can be whatever you want e.g. i, a, x, name, num etc.*<br>\n",
    "A good practice is to use it carefully so that you can remember and whenever you come back to check the code, you can understand what you have written.<br>\n",
    "*A good selection in this case is* **\"num\"**, *because we have numbers in my_list*.<br>\n",
    "\n",
    "Another useful trick is, ***always use comments in your code, this is a great way to remember and also helpful while working in a team.*** <br>"
   ]
  },
  {
   "cell_type": "code",
   "execution_count": 6,
   "metadata": {},
   "outputs": [
    {
     "name": "stdout",
     "output_type": "stream",
     "text": [
      "Hello world\n",
      "Hello world\n",
      "Hello world\n",
      "Hello world\n",
      "Hello world\n"
     ]
    }
   ],
   "source": [
    "for num in my_list:\n",
    "    print('Hello world') "
   ]
  },
  {
   "cell_type": "markdown",
   "metadata": {},
   "source": [
    "Another thing, you can notice that, the block of code \"print('Hello world')\" does not need to be related to items in the sequence (my_list), we can print anything, we want.!<br>\n",
    "\n",
    "In another example, let's print the square of the numbers in `my_list` using `for loop`!"
   ]
  },
  {
   "cell_type": "code",
   "execution_count": 7,
   "metadata": {},
   "outputs": [
    {
     "name": "stdout",
     "output_type": "stream",
     "text": [
      "1\n",
      "4\n",
      "9\n",
      "16\n",
      "25\n"
     ]
    }
   ],
   "source": [
    "# printing square of the numbers in the list.\n",
    "for num in my_list:\n",
    "    print(num**2)"
   ]
  },
  {
   "cell_type": "markdown",
   "metadata": {},
   "source": [
    "This was about the loops at the moment!\n",
    "\n",
    "### `range( )`: \n",
    "`<shift + tab>` for the doc string!<br>\n",
    "After discussing loops, I want to introduce a very useful loop-related function **range( )** at this point.<br>\n",
    "* Rather than creating a sequence (specially in for loops), we can use `range()`, which is a generator of numerical values.<br>\n",
    "* **With one argument**, `range` generates a list of integers from zero up to but not including the argument’s value. <br>\n",
    "* **With two arguments**, the first is taken as the lower bound (start). <br>\n",
    "* We can give a **third argument as a step**, which is optional. If the third argument is provided, Python adds the step to each successive integer in the result (the default value of step is +1)."
   ]
  },
  {
   "cell_type": "code",
   "execution_count": 8,
   "metadata": {},
   "outputs": [
    {
     "data": {
      "text/plain": [
       "range(0, 5)"
      ]
     },
     "execution_count": 8,
     "metadata": {},
     "output_type": "execute_result"
    }
   ],
   "source": [
    "# This will give the range object, which is iterable.\n",
    "range(5)"
   ]
  },
  {
   "cell_type": "code",
   "execution_count": 9,
   "metadata": {},
   "outputs": [
    {
     "data": {
      "text/plain": [
       "[0, 1, 2, 3, 4]"
      ]
     },
     "execution_count": 9,
     "metadata": {},
     "output_type": "execute_result"
    }
   ],
   "source": [
    "# with method \"list\", we can convert the range object into a list\n",
    "list(range(5))"
   ]
  },
  {
   "cell_type": "code",
   "execution_count": 10,
   "metadata": {},
   "outputs": [
    {
     "name": "stdout",
     "output_type": "stream",
     "text": [
      "0\n",
      "1\n",
      "2\n",
      "3\n",
      "4\n"
     ]
    }
   ],
   "source": [
    "# Use of range(), with single argument, in a loop\n",
    "for i in range(5):\n",
    "    print(i)"
   ]
  },
  {
   "cell_type": "code",
   "execution_count": 11,
   "metadata": {},
   "outputs": [
    {
     "name": "stdout",
     "output_type": "stream",
     "text": [
      "3\n",
      "4\n"
     ]
    }
   ],
   "source": [
    "# Use of range(), with two argument, in a loop\n",
    "for i in range(3,5):\n",
    "    print(i)"
   ]
  },
  {
   "cell_type": "code",
   "execution_count": 12,
   "metadata": {},
   "outputs": [
    {
     "name": "stdout",
     "output_type": "stream",
     "text": [
      "1\n",
      "3\n",
      "5\n",
      "7\n",
      "9\n"
     ]
    }
   ],
   "source": [
    "# Use of range(), with three argument, in a loop\n",
    "for i in range(1,10,2):\n",
    "    print(i)"
   ]
  },
  {
   "cell_type": "markdown",
   "metadata": {},
   "source": [
    "## List Comprehension\n",
    "\n",
    "Do you remember the basic mathematics ?<br>\n",
    "* {x² | x ∈ ℕ } gives the squares of the natural numbers:<br>\n",
    "* {x² : x in {0 ... 9}} gives the squares of numbers with in the provided set, {0 ... 9}.<br>\n",
    "\n",
    "**List comprehension** implements such well-known notations for sets. It is an elegant and concise way to define and create list in Python, and off-course, it saves typing as well!\n",
    "* Syntax: `\"statement/expression\"` followed by a `\"for clause\"` with in `\"square brackets\"`. "
   ]
  },
  {
   "cell_type": "code",
   "execution_count": 12,
   "metadata": {
    "collapsed": true
   },
   "outputs": [],
   "source": [
    "# lets we have a list\n",
    "x = [2,3,4,5]"
   ]
  },
  {
   "cell_type": "markdown",
   "metadata": {},
   "source": [
    "We want to create a new list that contains the squares of the elements in x, we can do this using a for loop."
   ]
  },
  {
   "cell_type": "code",
   "execution_count": 13,
   "metadata": {},
   "outputs": [
    {
     "name": "stdout",
     "output_type": "stream",
     "text": [
      "[4, 9, 16, 25]\n"
     ]
    }
   ],
   "source": [
    "out = [] # empty list for squares\n",
    "for num in x:    \n",
    "    out.append(num**2) # taking squeares and appending to the empty list \"out\"\n",
    "print(out)"
   ]
  },
  {
   "cell_type": "markdown",
   "metadata": {},
   "source": [
    "The above task can be elegantly implemented using a list comprehension in a line of code.<br>\n",
    "Simply take `for statement` and put it after what you want in result!"
   ]
  },
  {
   "cell_type": "code",
   "execution_count": 14,
   "metadata": {},
   "outputs": [
    {
     "data": {
      "text/plain": [
       "[4, 9, 16, 25]"
      ]
     },
     "execution_count": 14,
     "metadata": {},
     "output_type": "execute_result"
    }
   ],
   "source": [
    "[num**2 for num in x]"
   ]
  },
  {
   "cell_type": "code",
   "execution_count": 15,
   "metadata": {},
   "outputs": [
    {
     "data": {
      "text/plain": [
       "['H', 'e', 'l', 'l', 'o', ' ', 'W', 'o', 'r', 'l', 'd']"
      ]
     },
     "execution_count": 15,
     "metadata": {},
     "output_type": "execute_result"
    }
   ],
   "source": [
    "# another example using string -- note the white space!\n",
    "[letters for letters in 'Hello World']"
   ]
  },
  {
   "cell_type": "code",
   "execution_count": 16,
   "metadata": {},
   "outputs": [
    {
     "data": {
      "text/plain": [
       "[4, 9, 16, 25, 36, 49, 64, 81]"
      ]
     },
     "execution_count": 16,
     "metadata": {},
     "output_type": "execute_result"
    }
   ],
   "source": [
    "# one more example using range()\n",
    "[numbers**2 for numbers in range(2,10)]"
   ]
  },
  {
   "cell_type": "markdown",
   "metadata": {},
   "source": [
    "## Functions:\n",
    "You may have come across them before in other languages, where they may have been called subroutines or procedures. <br>\n",
    "\n",
    "**Functions serve two primary development roles:**<br>\n",
    "* Maximizing code reuse and minimizing redundancy\n",
    "* Procedural decomposition by splitting systems into pieces that have well-defined roles.\n",
    "\n",
    "Functions reduce our future work radically and if the operation must be changed later, we only have to update one copy in the function, not many scattered copies throughout the code.<br>\n",
    "\n",
    "In Python, **`\"def\"`** creates a function object and assigns it to a name."
   ]
  },
  {
   "cell_type": "code",
   "execution_count": 17,
   "metadata": {
    "collapsed": true
   },
   "outputs": [],
   "source": [
    "# A simplest example\n",
    "def function_name(pram1):\n",
    "    \"\"\"\n",
    "    Body: Statements to execute  \n",
    "    \"\"\"\n",
    "    print(pram1)\n",
    "    # We can concatenate two string together with + sign.\n",
    "    print(pram1 +', this is Python')"
   ]
  },
  {
   "cell_type": "code",
   "execution_count": 18,
   "metadata": {},
   "outputs": [
    {
     "name": "stdout",
     "output_type": "stream",
     "text": [
      "Hello world\n",
      "Hello world, this is Python\n"
     ]
    }
   ],
   "source": [
    "# function call with a\n",
    "function_name('Hello world')"
   ]
  },
  {
   "cell_type": "code",
   "execution_count": 19,
   "metadata": {
    "collapsed": true
   },
   "outputs": [],
   "source": [
    "# We can use a default value to pram1 \n",
    "def function_name(pram1 = 'Default Value'):\n",
    "    print(pram1)\n",
    "    # We can concatenate two string together with + sign.\n",
    "    print(pram1 +', this is Python')"
   ]
  },
  {
   "cell_type": "code",
   "execution_count": 20,
   "metadata": {},
   "outputs": [
    {
     "name": "stdout",
     "output_type": "stream",
     "text": [
      "Default Value\n",
      "Default Value, this is Python\n"
     ]
    }
   ],
   "source": [
    "# Now if we don't pass the parameter to the function in the call\n",
    "# It will print the Default Value\n",
    "function_name()"
   ]
  },
  {
   "cell_type": "code",
   "execution_count": 21,
   "metadata": {},
   "outputs": [
    {
     "name": "stdout",
     "output_type": "stream",
     "text": [
      "Hi\n",
      "Hi, this is Python\n"
     ]
    }
   ],
   "source": [
    "# If we pass a parameter, it will replace the default value\n",
    "function_name('Hi') # or function_name(pram1='Hi')"
   ]
  },
  {
   "cell_type": "markdown",
   "metadata": {},
   "source": [
    "<font style=\"font-size:14px;color:green;\"><br>\n",
    "&#9758; **Good to know!**<br>\n",
    "The terms parameter and argument may have different meanings in different programming languages. Sometimes they are used interchangeably, and the context is used to distinguish the meaning. The term parameter (sometimes called formal parameter) is often used to refer to the variable as found in the function definition, while argument (sometimes called actual parameter) refers to the actual input supplied at function call. <br>\n",
    "For example, if one defines a function as `def f(x): ...`, then `x` is the parameter, and if it is called by `a = ...;` `f(a)` then `a` is the argument.\n",
    "</font>"
   ]
  },
  {
   "cell_type": "markdown",
   "metadata": {},
   "source": [
    "**Lets create a function that takes two parameters and returns the multiplication of the numbers.**"
   ]
  },
  {
   "cell_type": "code",
   "execution_count": 22,
   "metadata": {
    "collapsed": true
   },
   "outputs": [],
   "source": [
    "# function returns the result\n",
    "def my_func(num1, num2):\n",
    "    num = num1*num2\n",
    "    return num\n",
    "# we can write \"return num1**num2\" in a single line as well "
   ]
  },
  {
   "cell_type": "code",
   "execution_count": 23,
   "metadata": {},
   "outputs": [
    {
     "data": {
      "text/plain": [
       "6"
      ]
     },
     "execution_count": 23,
     "metadata": {},
     "output_type": "execute_result"
    }
   ],
   "source": [
    "my_func(2,3)\n",
    "# out = my_func(2,3)\n",
    "# print(out)"
   ]
  },
  {
   "cell_type": "markdown",
   "metadata": {},
   "source": [
    "Functions can have documentation strings enclosed b/w **`\"\"\"doc\"\"\"`**<br>\n",
    "For example:"
   ]
  },
  {
   "cell_type": "code",
   "execution_count": 24,
   "metadata": {
    "collapsed": true
   },
   "outputs": [],
   "source": [
    "def my_func(num1, num2):\n",
    "    \"\"\"\n",
    "    These docstrings are very useful\n",
    "    Jupyter has a great feature for these strings\n",
    "    write function name, and click shift tab\n",
    "    my_func -- shift tab\n",
    "    You will see these doc string\n",
    "    \"\"\"\n",
    "    return num1**3 "
   ]
  },
  {
   "cell_type": "code",
   "execution_count": 25,
   "metadata": {},
   "outputs": [
    {
     "data": {
      "text/plain": [
       "<function __main__.my_func>"
      ]
     },
     "execution_count": 25,
     "metadata": {},
     "output_type": "execute_result"
    }
   ],
   "source": [
    "# mu_func - then press shift + tab to see the doc string\n",
    "my_func"
   ]
  },
  {
   "cell_type": "markdown",
   "metadata": {},
   "source": [
    "*<b>DocStrings</b> are very useful, specially for built-in functions.<br>\n",
    "For example, if we type **`range`** and click `<shift+tab>`, we will see the documentation of **`range`**, we don't need to memorize this all!* **We will be using this features lots of time in the course at later stage**"
   ]
  },
  {
   "cell_type": "markdown",
   "metadata": {},
   "source": [
    "## Lambda expression\n",
    "Now we know basics about the function, we can move on to learn about `\"lambda expression\"`.<br>\n",
    "* The lambda expression is a way to create small **anonymous** functions, i.e. **functions without a name**. <br>\n",
    "* These **throw-away functions** are created where we need them. <br>\n",
    "* Lambda expressions are mainly used in combination with the `filter()` and `map()` functions. <br>\n",
    "\n",
    "General syntax of a lambda expression is: **`lambda argument_list: expression`** <br>\n",
    "* The **argument list** consists of a comma separated list of arguments. <br>\n",
    "* The **expression is** an arithmetic expression using these arguments. <br>\n",
    "\n",
    "We can assign \"`lambda expression`\" to a variable to give it a name. "
   ]
  },
  {
   "cell_type": "markdown",
   "metadata": {},
   "source": [
    "Lets write a function which return square of a number and then re-write than function to a lambda expression. <br>\n",
    "**This is easy!**"
   ]
  },
  {
   "cell_type": "code",
   "execution_count": 26,
   "metadata": {
    "collapsed": true
   },
   "outputs": [],
   "source": [
    "def square(num):\n",
    "    return num**2"
   ]
  },
  {
   "cell_type": "code",
   "execution_count": 27,
   "metadata": {},
   "outputs": [
    {
     "data": {
      "text/plain": [
       "16"
      ]
     },
     "execution_count": 27,
     "metadata": {},
     "output_type": "execute_result"
    }
   ],
   "source": [
    "square (4)"
   ]
  },
  {
   "cell_type": "code",
   "execution_count": 28,
   "metadata": {},
   "outputs": [
    {
     "data": {
      "text/plain": [
       "16"
      ]
     },
     "execution_count": 28,
     "metadata": {},
     "output_type": "execute_result"
    }
   ],
   "source": [
    "# same function in one line\n",
    "def square(num):return num**2\n",
    "square (4)"
   ]
  },
  {
   "cell_type": "markdown",
   "metadata": {},
   "source": [
    "**Steps to re-write above function to a lambda expression**\n",
    "* replace **`def`** with **`lambda`**\n",
    "* delete function name \"`square`\"\n",
    "* remove \"`()`\" around num\n",
    "* delete `return`<br>\n",
    "\n",
    "Its your lambda expression<br>\n",
    "***We will use lambda expressions a lot in our pandas library***"
   ]
  },
  {
   "cell_type": "code",
   "execution_count": 29,
   "metadata": {},
   "outputs": [
    {
     "data": {
      "text/plain": [
       "<function __main__.<lambda>>"
      ]
     },
     "execution_count": 29,
     "metadata": {},
     "output_type": "execute_result"
    }
   ],
   "source": [
    "lambda num : num*2\n",
    "# hold-on, we will use this expression in map and filter to understand in details"
   ]
  },
  {
   "cell_type": "markdown",
   "metadata": {},
   "source": [
    "## `map` & `filter`"
   ]
  },
  {
   "cell_type": "markdown",
   "metadata": {},
   "source": [
    "Let's talk about `map` and `filter` now. <br>\n",
    "We have seen that we can calculate the squares of the numbers in a list using a for loop. To do this, we need to follow the following steps:\n",
    "\n",
    "* create an empty list\n",
    "* Iterate over my_list in a `for` loop.\n",
    "* append square of each number to the empty list.\n",
    "\n",
    "**This is tedious!** <br>\n",
    "\n",
    "***This is where \"`map()`\" plays its role.***<br>\n",
    "\n",
    "Lets try to do the above tasks with for loop and then using `map()`"
   ]
  },
  {
   "cell_type": "code",
   "execution_count": 30,
   "metadata": {},
   "outputs": [
    {
     "name": "stdout",
     "output_type": "stream",
     "text": [
      "[1, 4, 9, 16, 25]\n"
     ]
    }
   ],
   "source": [
    "my_list = [1,2,3,4,5]\n",
    "num_sq = []\n",
    "for num in my_list:\n",
    "    num_sq.append(num**2)\n",
    "print (num_sq)"
   ]
  },
  {
   "cell_type": "markdown",
   "metadata": {},
   "source": [
    "### `map()`\n",
    "\n",
    "* `map()` is a function with two arguments, a function and a sequence (e.g. list).<br>\n",
    "* it maps a function to every element in a sequence\n",
    "\n",
    "We have recently created a function \"`square()`\" and our sequence is \"my_list\". <br>\n",
    "Lets pass **\"`square`\"** and **\"`my_list`\"** to **`map()`**"
   ]
  },
  {
   "cell_type": "code",
   "execution_count": 31,
   "metadata": {},
   "outputs": [
    {
     "data": {
      "text/plain": [
       "[1, 4, 9, 16, 25]"
      ]
     },
     "execution_count": 31,
     "metadata": {},
     "output_type": "execute_result"
    }
   ],
   "source": [
    "result = map(square, my_list)\n",
    "list(result)\n",
    "# list(map(square, my_list)) # in a sinlge line!"
   ]
  },
  {
   "cell_type": "markdown",
   "metadata": {},
   "source": [
    "**lambda works great with `map()`**. For example, we don't want to write and store a function `square` as this is a one-time use only. <br>\n",
    "Better to use lambda in this case, as given below!<br>"
   ]
  },
  {
   "cell_type": "code",
   "execution_count": 32,
   "metadata": {},
   "outputs": [
    {
     "data": {
      "text/plain": [
       "[1, 4, 9, 16, 25]"
      ]
     },
     "execution_count": 32,
     "metadata": {},
     "output_type": "execute_result"
    }
   ],
   "source": [
    "list(map(lambda num:num**2, my_list)) # casting to the list to get the result back"
   ]
  },
  {
   "cell_type": "markdown",
   "metadata": {},
   "source": [
    "`map()` can be applied to more than 1 lists!"
   ]
  },
  {
   "cell_type": "code",
   "execution_count": 33,
   "metadata": {},
   "outputs": [
    {
     "data": {
      "text/plain": [
       "[17, 10, 19, 23]"
      ]
     },
     "execution_count": 33,
     "metadata": {},
     "output_type": "execute_result"
    }
   ],
   "source": [
    "a = [1,2,3,4]\n",
    "b = [17,12,11,10]\n",
    "c = [-1,-4,5,9]\n",
    "list(map(lambda x, y, z : x + y + z, a, b, c))\n",
    "#list(map(lambda a, b, c : a + b + c, a, b, c))"
   ]
  },
  {
   "cell_type": "markdown",
   "metadata": {},
   "source": [
    "### `fliter()`\n",
    "\n",
    "Filter is another very useful built-in function and provides an elegant and smarter way of filtering out all the elements in the provided list, for which `filter()` returns True. <br>\n",
    "* It takes two arguments, a function or lambda expression and a list.<br> \n",
    "* Its first argument returns Boolean value, True or False.<br>\n",
    "* The function (argument 1) will be applied to every element of the list (argument 2). If the the function (argument 1) returns True, for the element in list (argument 2), the element will be included in the result list.\n",
    "\n",
    "For example, let's filter out the even number from 0 to 10, we can use `range` here! :)"
   ]
  },
  {
   "cell_type": "code",
   "execution_count": 34,
   "metadata": {},
   "outputs": [
    {
     "data": {
      "text/plain": [
       "[2, 4, 6, 8]"
      ]
     },
     "execution_count": 34,
     "metadata": {},
     "output_type": "execute_result"
    }
   ],
   "source": [
    "# \"we are using range function here!\"\n",
    "list(filter(lambda num: num % 2 == 0, range(1,10))) # casting to the list to get the result back"
   ]
  },
  {
   "cell_type": "markdown",
   "metadata": {},
   "source": [
    "## Great job guys! \n",
    "\n",
    "We are done with the Python Essentials section. Its time to do some practice. <br>\n",
    "In the next lecture, we will have a quick overview on the Python Essentials exercises. Its good idea to try them out first. However, later on, we will discuss the solutions as well.<br>\n",
    "\n",
    "#### See you in the next lecture, Good Luck!"
   ]
  }
 ],
 "metadata": {
  "kernelspec": {
   "display_name": "Python 3",
   "language": "python",
   "name": "python3"
  },
  "language_info": {
   "codemirror_mode": {
    "name": "ipython",
    "version": 3
   },
   "file_extension": ".py",
   "mimetype": "text/x-python",
   "name": "python",
   "nbconvert_exporter": "python",
   "pygments_lexer": "ipython3",
   "version": "3.6.12"
  }
 },
 "nbformat": 4,
 "nbformat_minor": 1
}
