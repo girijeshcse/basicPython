{
 "cells": [
  {
   "cell_type": "markdown",
   "metadata": {},
   "source": [
    "# pandas Data Structures:\n",
    "**Series** and **DataFrame** are **two workhorse** data structures in pandas.<br> Lets talk about series first:\n",
    "## Series: \n",
    "Series is a one-dimensional array-like object, which contains values and an array of labels, associated with the values. Series can be indexed using labels. <br>\n",
    "*(Series is similar to NumPy array -- actually, it is built on top of the NumPy array object)\n",
    "<br>Series can hold any arbitrary Python object.*\n",
    "\n",
    "Let's get hands-on and learn the concepts of Series with examples:"
   ]
  },
  {
   "cell_type": "code",
   "execution_count": 1,
   "metadata": {
    "collapsed": true
   },
   "outputs": [],
   "source": [
    "# first thing first, we need to import NumPy and pandas\n",
    "# np and pd are alias for NumPy and pandas\n",
    "# pandas Documentation using pd.<TAB> and pd?\n",
    "import numpy as np\n",
    "import pandas as pd"
   ]
  },
  {
   "cell_type": "markdown",
   "metadata": {},
   "source": [
    "**We can create a Series using list, numpy array, or dictionary**<br>\n",
    "Let's create these objects and convert them into panda's Series!"
   ]
  },
  {
   "cell_type": "markdown",
   "metadata": {},
   "source": [
    "**Series using lists**<br>\n",
    "Lets create a Python list containing labels and another with data."
   ]
  },
  {
   "cell_type": "code",
   "execution_count": 2,
   "metadata": {
    "collapsed": true
   },
   "outputs": [],
   "source": [
    "my_labels = ['x','y','z'] \n",
    "my_data = [100,200,300] "
   ]
  },
  {
   "cell_type": "markdown",
   "metadata": {},
   "source": [
    "So, we have two Python’s list objects,<br>\n",
    "\n",
    "* `my_labels` - a list of strings, and\n",
    "* `my_data` - a list of numbers\n",
    "\n",
    "We can use **`pd.Series`** (with capital S) to convert the Python’s list object to pandas Series. <br>\n",
    "\n",
    "&#9758; *If you press `<Shift+tab>`, you see Series takes a wide variety of parameters, at the moment we will focus on the data and the index. lets consider data only and see how it works!*"
   ]
  },
  {
   "cell_type": "code",
   "execution_count": 3,
   "metadata": {},
   "outputs": [
    {
     "data": {
      "text/plain": [
       "0    100\n",
       "1    200\n",
       "2    300\n",
       "dtype: int64"
      ]
     },
     "execution_count": 3,
     "metadata": {},
     "output_type": "execute_result"
    }
   ],
   "source": [
    "# Converting my_data (Python list) to Series (pandas series)\n",
    "pd.Series(data = my_data)\n",
    "# shift+tab, we will focus on data and index at the moment"
   ]
  },
  {
   "cell_type": "markdown",
   "metadata": {},
   "source": [
    "Column \"0 1 2\" is automatically generated index for the elements in series with data 100 200 and 300. We can specify index values and call the data points using these indexes.<br> \n",
    "Let's pass \"my_labels\" to the Series as index.   "
   ]
  },
  {
   "cell_type": "code",
   "execution_count": 4,
   "metadata": {},
   "outputs": [
    {
     "data": {
      "text/plain": [
       "x    100\n",
       "y    200\n",
       "z    300\n",
       "dtype: int64"
      ]
     },
     "execution_count": 4,
     "metadata": {},
     "output_type": "execute_result"
    }
   ],
   "source": [
    "pd.Series(data = my_data, index = my_labels)\n",
    "#pd.Series(my_data, my_labels) # Becasue data and index are in order (shit+TAB)"
   ]
  },
  {
   "cell_type": "markdown",
   "metadata": {},
   "source": [
    "**Series using NumPy arrays **"
   ]
  },
  {
   "cell_type": "code",
   "execution_count": 5,
   "metadata": {},
   "outputs": [
    {
     "data": {
      "text/plain": [
       "0    100\n",
       "1    200\n",
       "2    300\n",
       "dtype: int64"
      ]
     },
     "execution_count": 5,
     "metadata": {},
     "output_type": "execute_result"
    }
   ],
   "source": [
    "# Lets create NumPy array from my_data and then Series from that array\n",
    "my_array = np.array(my_data)\n",
    "pd.Series(data = my_array)"
   ]
  },
  {
   "cell_type": "code",
   "execution_count": 6,
   "metadata": {},
   "outputs": [
    {
     "data": {
      "text/plain": [
       "x    100\n",
       "y    200\n",
       "z    300\n",
       "dtype: int64"
      ]
     },
     "execution_count": 6,
     "metadata": {},
     "output_type": "execute_result"
    }
   ],
   "source": [
    "pd.Series(data = my_array, index = my_labels)\n",
    "# pd.Series(my_array, my_labels) # data and index are in order"
   ]
  },
  {
   "cell_type": "markdown",
   "metadata": {},
   "source": [
    "**Series using dictionary**"
   ]
  },
  {
   "cell_type": "code",
   "execution_count": 7,
   "metadata": {},
   "outputs": [
    {
     "data": {
      "text/plain": [
       "x    100\n",
       "y    200\n",
       "z    300\n",
       "dtype: int64"
      ]
     },
     "execution_count": 7,
     "metadata": {},
     "output_type": "execute_result"
    }
   ],
   "source": [
    "# Let's create a dictionary my_dic\n",
    "my_dic = {'x':100,'y':200,'z':300}\n",
    "pd.Series(my_dic)"
   ]
  },
  {
   "cell_type": "markdown",
   "metadata": {},
   "source": [
    "***Notice the difference here,<br> if we pass a `dictionary` to `Series`, pandas will take the keys as `index/labels` and `values` as data.***"
   ]
  },
  {
   "cell_type": "markdown",
   "metadata": {},
   "source": [
    "**Series can hold a wide variety of objects types, lets see with examples:**"
   ]
  },
  {
   "cell_type": "code",
   "execution_count": 8,
   "metadata": {},
   "outputs": [
    {
     "data": {
      "text/plain": [
       "0    x\n",
       "1    y\n",
       "2    z\n",
       "dtype: object"
      ]
     },
     "execution_count": 8,
     "metadata": {},
     "output_type": "execute_result"
    }
   ],
   "source": [
    "# let's pass my_labels (which is a list of strings) as data\n",
    "pd.Series(data = my_labels)"
   ]
  },
  {
   "cell_type": "code",
   "execution_count": 9,
   "metadata": {},
   "outputs": [
    {
     "data": {
      "text/plain": [
       "0      <built-in function min>\n",
       "1      <built-in function max>\n",
       "2      <built-in function sum>\n",
       "3    <built-in function print>\n",
       "dtype: object"
      ]
     },
     "execution_count": 9,
     "metadata": {},
     "output_type": "execute_result"
    }
   ],
   "source": [
    "# We can pass a list of buit-in functions!\n",
    "pd.Series([min, max, sum, print])\n",
    "# This is jsut an example, you may not see this in the real world!"
   ]
  },
  {
   "cell_type": "markdown",
   "metadata": {},
   "source": [
    "### Grabbing data from Series:\n",
    "Indexes are the key thing to understand in Series. Pandas use these indexes (numbers or names) for fast information retrieval. (Index works just like a hash table or a dictionary).\n",
    "\n",
    "To understand the concepts, Let's create three Series, `ser1`, `ser2`, `ser3` from dictionaries with some random data:"
   ]
  },
  {
   "cell_type": "code",
   "execution_count": 10,
   "metadata": {
    "collapsed": true
   },
   "outputs": [],
   "source": [
    "# Creating dictionaries\n",
    "dic_1 = {'Toronto': 500, 'Calgary': 200, 'Vancouver': 300, 'Montreal': 700}\n",
    "dic_2 = {'Calgary': 200, 'Vancouver': 300, 'Montreal': 700}\n",
    "dic_3 = {'Calgary': 200, 'Vancouver': 300, 'Montreal': 700, 'Jasper':1000}"
   ]
  },
  {
   "cell_type": "code",
   "execution_count": 11,
   "metadata": {
    "collapsed": true
   },
   "outputs": [],
   "source": [
    "# Creating pandas series from the dictionaries\n",
    "ser1 = pd.Series(dic_1)\n",
    "ser2 = pd.Series(dic_2)\n",
    "ser3 = pd.Series(dic_3)"
   ]
  },
  {
   "cell_type": "code",
   "execution_count": 12,
   "metadata": {},
   "outputs": [
    {
     "data": {
      "text/plain": [
       "200"
      ]
     },
     "execution_count": 12,
     "metadata": {},
     "output_type": "execute_result"
    }
   ],
   "source": [
    "# Grabbing information for series is very much similar to dictionary.\n",
    "ser1['Calgary'] # its case sensitive \"calgary\" is not the same as \"Calgary\""
   ]
  },
  {
   "cell_type": "markdown",
   "metadata": {},
   "source": [
    "Note, we are passing a string \"Calgary\" our index contains strings (name of the cities). If the index is a number, we will pass in the number."
   ]
  },
  {
   "cell_type": "markdown",
   "metadata": {},
   "source": [
    "**Just a quick note:**<br> \n",
    "*When we are only passing a dictionary, the index in the resulting Series will have the dictionary's keys in sorted order (in this case, C, M, T, V are sorted). We can override this by passing the dictionary keys in the order we want them to appear in the resulting Series.* \"output series to observe\""
   ]
  },
  {
   "cell_type": "code",
   "execution_count": 13,
   "metadata": {},
   "outputs": [
    {
     "data": {
      "text/plain": [
       "Calgary      200\n",
       "Montreal     700\n",
       "Toronto      500\n",
       "Vancouver    300\n",
       "dtype: int64"
      ]
     },
     "execution_count": 13,
     "metadata": {},
     "output_type": "execute_result"
    }
   ],
   "source": [
    "ser1 # C M T V are in order"
   ]
  },
  {
   "cell_type": "code",
   "execution_count": 14,
   "metadata": {},
   "outputs": [
    {
     "data": {
      "text/plain": [
       "Calgary      200\n",
       "Montreal     700\n",
       "Vancouver    300\n",
       "dtype: int64"
      ]
     },
     "execution_count": 14,
     "metadata": {},
     "output_type": "execute_result"
    }
   ],
   "source": [
    "ser2 # C, M, V are in order"
   ]
  },
  {
   "cell_type": "markdown",
   "metadata": {},
   "source": [
    "<b>Basic operations on series are usually based on the index.</b> <br>\n",
    "For example, if we want to add ser1 + ser2, it tries to match up the operation based on the index. For Calgary, Montreal and Vancouver, it adds the values whereas for Toronto, it can not find a match and put NaN there."
   ]
  },
  {
   "cell_type": "code",
   "execution_count": 15,
   "metadata": {},
   "outputs": [
    {
     "data": {
      "text/plain": [
       "Calgary       400.0\n",
       "Montreal     1400.0\n",
       "Toronto         NaN\n",
       "Vancouver     600.0\n",
       "dtype: float64"
      ]
     },
     "execution_count": 15,
     "metadata": {},
     "output_type": "execute_result"
    }
   ],
   "source": [
    "ser4 = ser1 + ser2 \n",
    "ser4"
   ]
  },
  {
   "cell_type": "code",
   "execution_count": 16,
   "metadata": {
    "scrolled": true
   },
   "outputs": [
    {
     "data": {
      "text/plain": [
       "Calgary       200\n",
       "Jasper       1000\n",
       "Montreal      700\n",
       "Vancouver     300\n",
       "dtype: int64"
      ]
     },
     "execution_count": 16,
     "metadata": {},
     "output_type": "execute_result"
    }
   ],
   "source": [
    "# Let's look at ser3!\n",
    "ser3 # C J M V are in order"
   ]
  },
  {
   "cell_type": "code",
   "execution_count": 17,
   "metadata": {},
   "outputs": [
    {
     "data": {
      "text/plain": [
       "Calgary       600.0\n",
       "Jasper          NaN\n",
       "Montreal     2100.0\n",
       "Toronto         NaN\n",
       "Vancouver     900.0\n",
       "dtype: float64"
      ]
     },
     "execution_count": 17,
     "metadata": {},
     "output_type": "execute_result"
    }
   ],
   "source": [
    "ser5 = ser4 + ser3\n",
    "ser5"
   ]
  },
  {
   "cell_type": "markdown",
   "metadata": {},
   "source": [
    "Notice that the values found in the series were added for their appropriate index, on the other hand, if there is no match, the value appears as NaN (not a number) which is considered in pandas to **mark missing or NA values**.<br>"
   ]
  },
  {
   "cell_type": "markdown",
   "metadata": {},
   "source": [
    "## Good to know!"
   ]
  },
  {
   "cell_type": "markdown",
   "metadata": {},
   "source": [
    "### `isnull()`, `notnull()` \n",
    "* detect missing data"
   ]
  },
  {
   "cell_type": "code",
   "execution_count": 18,
   "metadata": {},
   "outputs": [
    {
     "data": {
      "text/plain": [
       "Calgary      False\n",
       "Montreal     False\n",
       "Toronto       True\n",
       "Vancouver    False\n",
       "dtype: bool"
      ]
     },
     "execution_count": 18,
     "metadata": {},
     "output_type": "execute_result"
    }
   ],
   "source": [
    "#pd.isnull(ser4)\n",
    "ser4.isnull()\n",
    "# shift+tab, its Type is method"
   ]
  },
  {
   "cell_type": "code",
   "execution_count": 19,
   "metadata": {
    "scrolled": false
   },
   "outputs": [
    {
     "data": {
      "text/plain": [
       "Calgary       True\n",
       "Jasper       False\n",
       "Montreal      True\n",
       "Toronto      False\n",
       "Vancouver     True\n",
       "dtype: bool"
      ]
     },
     "execution_count": 19,
     "metadata": {},
     "output_type": "execute_result"
    }
   ],
   "source": [
    "#pd.notnull(ser5)\n",
    "ser5.notnull()"
   ]
  },
  {
   "cell_type": "markdown",
   "metadata": {},
   "source": [
    "### `axes`, `values` \n",
    "* `axes`: returns list of the row axis labels/index\n",
    "* `values`: returns list of values/data<br>\n",
    "\n",
    "Let's try `axes` and `values` on our series!"
   ]
  },
  {
   "cell_type": "code",
   "execution_count": 20,
   "metadata": {},
   "outputs": [
    {
     "data": {
      "text/plain": [
       "[Index(['Calgary', 'Montreal', 'Toronto', 'Vancouver'], dtype='object')]"
      ]
     },
     "execution_count": 20,
     "metadata": {},
     "output_type": "execute_result"
    }
   ],
   "source": [
    "# row axis labels (index) list can be obtained\n",
    "ser1.axes\n",
    "#<shift+tab> axes type is property, its attribute!"
   ]
  },
  {
   "cell_type": "code",
   "execution_count": 21,
   "metadata": {},
   "outputs": [
    {
     "data": {
      "text/plain": [
       "array([200, 700, 500, 300])"
      ]
     },
     "execution_count": 21,
     "metadata": {},
     "output_type": "execute_result"
    }
   ],
   "source": [
    "# returns the values/data\n",
    "ser1.values"
   ]
  },
  {
   "cell_type": "markdown",
   "metadata": {},
   "source": [
    "### `head()`, `tail()`\n",
    "To view a small sample of a Series or DataFrame (we will learn `DataFrame` in the next lecture) object, use the **`head()`** and **`tail()`** methods. <br>\n",
    "The default number of elements to display is **five**, but you may pass a custom number."
   ]
  },
  {
   "cell_type": "code",
   "execution_count": 22,
   "metadata": {
    "scrolled": true
   },
   "outputs": [
    {
     "data": {
      "text/plain": [
       "Calgary    200\n",
       "dtype: int64"
      ]
     },
     "execution_count": 22,
     "metadata": {},
     "output_type": "execute_result"
    }
   ],
   "source": [
    "ser1.head(1)"
   ]
  },
  {
   "cell_type": "code",
   "execution_count": 23,
   "metadata": {},
   "outputs": [
    {
     "data": {
      "text/plain": [
       "Vancouver    300\n",
       "dtype: int64"
      ]
     },
     "execution_count": 23,
     "metadata": {},
     "output_type": "execute_result"
    }
   ],
   "source": [
    "ser1.tail(1)"
   ]
  },
  {
   "cell_type": "markdown",
   "metadata": {},
   "source": [
    "### `size`\n",
    "* To check the number of elements in your data."
   ]
  },
  {
   "cell_type": "code",
   "execution_count": 24,
   "metadata": {},
   "outputs": [
    {
     "data": {
      "text/plain": [
       "4"
      ]
     },
     "execution_count": 24,
     "metadata": {},
     "output_type": "execute_result"
    }
   ],
   "source": [
    "ser1.size"
   ]
  },
  {
   "cell_type": "markdown",
   "metadata": {},
   "source": [
    "### `empty` \n",
    "* True if the series in empty"
   ]
  },
  {
   "cell_type": "code",
   "execution_count": 25,
   "metadata": {},
   "outputs": [
    {
     "data": {
      "text/plain": [
       "False"
      ]
     },
     "execution_count": 25,
     "metadata": {},
     "output_type": "execute_result"
    }
   ],
   "source": [
    "# True for empty series\n",
    "ser1.empty"
   ]
  },
  {
   "cell_type": "markdown",
   "metadata": {},
   "source": [
    "# Excellent!\n",
    "### Let's have a quick overview on what we have learned and move on the DataFrames to expand our concepts of Series.\n",
    "# Good Luck"
   ]
  }
 ],
 "metadata": {
  "kernelspec": {
   "display_name": "Python 3",
   "language": "python",
   "name": "python3"
  },
  "language_info": {
   "codemirror_mode": {
    "name": "ipython",
    "version": 3
   },
   "file_extension": ".py",
   "mimetype": "text/x-python",
   "name": "python",
   "nbconvert_exporter": "python",
   "pygments_lexer": "ipython3",
   "version": "3.6.12"
  }
 },
 "nbformat": 4,
 "nbformat_minor": 1
}
