{
 "cells": [
  {
   "cell_type": "code",
   "execution_count": null,
   "id": "97d643ea-c399-43b4-bdcf-70217bb92c1f",
   "metadata": {},
   "outputs": [],
   "source": [
    "# single exponential smoothing\n",
    "...\n",
    "from statsmodels.tsa.holtwinters import SimpleExpSmoothing\n",
    "# prepare data\n",
    "data = ...\n",
    "# create class\n",
    "model = SimpleExpSmoothing(data)\n",
    "# fit model\n",
    "model_fit = model.fit(...)\n",
    "# make prediction\n",
    "yhat = model_fit.predict(...)"
   ]
  },
  {
   "cell_type": "code",
   "execution_count": null,
   "id": "d43754e3-6ab1-4461-8049-808dcf39a322",
   "metadata": {},
   "outputs": [],
   "source": [
    "# double or triple exponential smoothing\n",
    "...\n",
    "from statsmodels.tsa.holtwinters import ExponentialSmoothing\n",
    "# prepare data\n",
    "data = ...\n",
    "# create class\n",
    "model = ExponentialSmoothing(data, ...)\n",
    "# fit model\n",
    "model_fit = model.fit(...)\n",
    "# make prediction\n",
    "yhat = model_fit.predict(...)"
   ]
  }
 ],
 "metadata": {
  "kernelspec": {
   "display_name": "Python 3 (ipykernel)",
   "language": "python",
   "name": "python3"
  },
  "language_info": {
   "codemirror_mode": {
    "name": "ipython",
    "version": 3
   },
   "file_extension": ".py",
   "mimetype": "text/x-python",
   "name": "python",
   "nbconvert_exporter": "python",
   "pygments_lexer": "ipython3",
   "version": "3.10.0"
  }
 },
 "nbformat": 4,
 "nbformat_minor": 5
}
